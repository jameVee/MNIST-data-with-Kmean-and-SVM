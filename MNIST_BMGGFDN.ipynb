{
  "cells": [
    {
      "cell_type": "markdown",
      "metadata": {
        "id": "view-in-github",
        "colab_type": "text"
      },
      "source": [
        "<a href=\"https://colab.research.google.com/github/jameVee/MNIST-data-with-Kmean-and-SVM/blob/main/MNIST_BMGGFDN.ipynb\" target=\"_parent\"><img src=\"https://colab.research.google.com/assets/colab-badge.svg\" alt=\"Open In Colab\"/></a>"
      ]
    },
    {
      "cell_type": "markdown",
      "metadata": {
        "id": "Kmri3FVxnRB6"
      },
      "source": [
        "# บะหมี่เกี๊ยวก็เฟี้ยวดีนะ (Scikit-learn)\n",
        "\n",
        "ศึกษา MNIST dataset ด้วย scikit-learn\n",
        "\n",
        "* Load \n",
        "* Explore \n",
        "* Pre-process\n",
        "* Unsupervised Learning (t-SNE)\n",
        "* Supervised Learning (Artificial Neural Network)"
      ]
    },
    {
      "cell_type": "markdown",
      "metadata": {
        "id": "-TO9cvAZo1zR"
      },
      "source": [
        "# Load Data"
      ]
    },
    {
      "cell_type": "code",
      "execution_count": null,
      "metadata": {
        "id": "FFCDZpJRnGLZ"
      },
      "outputs": [],
      "source": [
        "from sklearn import datasets\n",
        "digits = datasets.load_digits()"
      ]
    },
    {
      "cell_type": "code",
      "execution_count": null,
      "metadata": {
        "colab": {
          "base_uri": "https://localhost:8080/"
        },
        "id": "xWiCBYORpAvp",
        "outputId": "788d40d4-6dc2-4f37-9b99-3537112b63e6"
      },
      "outputs": [
        {
          "output_type": "stream",
          "name": "stdout",
          "text": [
            "dict_keys(['data', 'target', 'frame', 'feature_names', 'target_names', 'images', 'DESCR'])\n"
          ]
        }
      ],
      "source": [
        "print(digits.keys())"
      ]
    },
    {
      "cell_type": "code",
      "execution_count": null,
      "metadata": {
        "colab": {
          "base_uri": "https://localhost:8080/"
        },
        "id": "uNexbNIs0kYo",
        "outputId": "dc2b98d6-3a88-4728-f101-c0be226fc509"
      },
      "outputs": [
        {
          "output_type": "stream",
          "name": "stdout",
          "text": [
            "<class 'numpy.ndarray'>\n",
            "(1797, 64)\n",
            "[ 0.  0.  5. 13.  9.  1.  0.  0.  0.  0. 13. 15. 10. 15.  5.  0.  0.  3.\n",
            " 15.  2.  0. 11.  8.  0.  0.  4. 12.  0.  0.  8.  8.  0.  0.  5.  8.  0.\n",
            "  0.  9.  8.  0.  0.  4. 11.  0.  1. 12.  7.  0.  0.  2. 14.  5. 10. 12.\n",
            "  0.  0.  0.  0.  6. 13. 10.  0.  0.  0.]\n"
          ]
        }
      ],
      "source": [
        "print(type(digits.data))\n",
        "print(digits.data.shape)\n",
        "print(digits.data[0])"
      ]
    },
    {
      "cell_type": "code",
      "execution_count": null,
      "metadata": {
        "colab": {
          "base_uri": "https://localhost:8080/"
        },
        "id": "Mo9NRdos0wu7",
        "outputId": "d077c435-7027-4afc-a24f-3430d01e1ade"
      },
      "outputs": [
        {
          "output_type": "stream",
          "name": "stdout",
          "text": [
            "0\n"
          ]
        }
      ],
      "source": [
        "print(digits.target[0])"
      ]
    },
    {
      "cell_type": "code",
      "execution_count": null,
      "metadata": {
        "colab": {
          "base_uri": "https://localhost:8080/"
        },
        "id": "9S6nmayw1CL2",
        "outputId": "616ac9f5-d5ce-4365-facf-eafdf39450e1"
      },
      "outputs": [
        {
          "output_type": "stream",
          "name": "stdout",
          "text": [
            "[[ 0.  0.  5. 13.  9.  1.  0.  0.]\n",
            " [ 0.  0. 13. 15. 10. 15.  5.  0.]\n",
            " [ 0.  3. 15.  2.  0. 11.  8.  0.]\n",
            " [ 0.  4. 12.  0.  0.  8.  8.  0.]\n",
            " [ 0.  5.  8.  0.  0.  9.  8.  0.]\n",
            " [ 0.  4. 11.  0.  1. 12.  7.  0.]\n",
            " [ 0.  2. 14.  5. 10. 12.  0.  0.]\n",
            " [ 0.  0.  6. 13. 10.  0.  0.  0.]]\n",
            "(1797, 8, 8)\n"
          ]
        }
      ],
      "source": [
        "print(digits.images[0])\n",
        "print(digits.images.shape)"
      ]
    },
    {
      "cell_type": "markdown",
      "metadata": {
        "id": "0scbq30G1nVd"
      },
      "source": [
        "# Explore MNIST data"
      ]
    },
    {
      "cell_type": "code",
      "execution_count": null,
      "metadata": {
        "colab": {
          "base_uri": "https://localhost:8080/",
          "height": 469
        },
        "id": "SkSL-VSA1sD8",
        "outputId": "79d43569-3e7b-486e-a73e-4ff950e756f5"
      },
      "outputs": [
        {
          "output_type": "display_data",
          "data": {
            "text/plain": [
              "<Figure size 576x576 with 64 Axes>"
            ],
            "image/png": "[encoded data removed]"
          },
          "metadata": {}
        }
      ],
      "source": [
        "import matplotlib.pyplot as plt\n",
        "\n",
        "images_and_labels = list(zip(digits.images, digits.target))\n",
        "\n",
        "fig = plt.figure(figsize=(8,8))\n",
        "\n",
        "for index, (image, label) in enumerate(images_and_labels[:64]):\n",
        "  ax = fig.add_subplot(8, 8, index+1, xticks=[], yticks=[])\n",
        "  ax.imshow(image, cmap=plt.cm.gray_r, interpolation='nearest')\n",
        "  ax.text(0, 7, str(label))\n",
        "\n",
        "plt.show()"
      ]
    },
    {
      "cell_type": "markdown",
      "metadata": {
        "id": "N8npVppX74Yh"
      },
      "source": [
        "# Dimensionality Reduction\n",
        "* PCA (Principal Component Analysis)"
      ]
    },
    {
      "cell_type": "code",
      "execution_count": null,
      "metadata": {
        "id": "zN05F2t82Dg5"
      },
      "outputs": [],
      "source": [
        "from sklearn.decomposition import PCA\n",
        "\n",
        "# digits.data (1797, 64)\n",
        "pca = PCA(n_components=2)\n",
        "reduced_data = pca.fit_transform(digits.data) "
      ]
    },
    {
      "cell_type": "code",
      "execution_count": null,
      "metadata": {
        "colab": {
          "base_uri": "https://localhost:8080/"
        },
        "id": "BKt-0Gun9A3P",
        "outputId": "531d2607-44b7-4bf7-8f2d-84353c3f4b70"
      },
      "outputs": [
        {
          "output_type": "execute_result",
          "data": {
            "text/plain": [
              "((1797, 64), (1797, 2))"
            ]
          },
          "metadata": {},
          "execution_count": 8
        }
      ],
      "source": [
        "digits.data.shape, reduced_data.shape"
      ]
    },
    {
      "cell_type": "code",
      "execution_count": null,
      "metadata": {
        "colab": {
          "base_uri": "https://localhost:8080/",
          "height": 295
        },
        "id": "wPofvNDa9GFT",
        "outputId": "0d9039f8-e081-44cc-c5f7-cfc76310a30b"
      },
      "outputs": [
        {
          "output_type": "display_data",
          "data": {
            "text/plain": [
              "<Figure size 432x288 with 1 Axes>"
            ],
            "image/png": "[encoded data removed]"
          },
          "metadata": {
            "needs_background": "light"
          }
        }
      ],
      "source": [
        "colors = ['black', 'blue', 'purple', 'yellow', 'cyan', 'red', 'lime','orange', 'gray','magenta']\n",
        "\n",
        "for i in range(len(colors)):\n",
        "  x = reduced_data[:, 0][digits.target == i]\n",
        "  y = reduced_data[:, 1][digits.target == i]\n",
        "  plt.scatter(x, y, c=colors[i])\n",
        "\n",
        "plt.legend(digits.target_names, bbox_to_anchor=(1.05, 1), loc=2, borderaxespad=0.)\n",
        "plt.xlabel('First Principal Component')\n",
        "plt.ylabel('Second Principal Component')\n",
        "plt.title(\"PCA Scatter Plot for MNIST\")\n",
        "plt.show()"
      ]
    },
    {
      "cell_type": "markdown",
      "source": [
        "*  t-SNE (t-Distributed Stochastic Neighbor Embedding) by Weerathep "
      ],
      "metadata": {
        "id": "4EcaCPSLzIIM"
      }
    },
    {
      "cell_type": "code",
      "source": [
        "from sklearn.manifold import TSNE\n",
        "tsne = TSNE(n_components=2)\n",
        "reduced_data_tsne = tsne.fit_transform(digits.data) \n",
        "reduced_data_tsne.shape"
      ],
      "metadata": {
        "colab": {
          "base_uri": "https://localhost:8080/"
        },
        "id": "gHUiv_hV1iNJ",
        "outputId": "04d5106e-362a-4a14-aeb4-ee334d8f5e1a"
      },
      "execution_count": null,
      "outputs": [
        {
          "output_type": "stream",
          "name": "stderr",
          "text": [
            "/usr/local/lib/python3.7/dist-packages/sklearn/manifold/_t_sne.py:783: FutureWarning: The default initialization in TSNE will change from 'random' to 'pca' in 1.2.\n",
            "  FutureWarning,\n",
            "/usr/local/lib/python3.7/dist-packages/sklearn/manifold/_t_sne.py:793: FutureWarning: The default learning rate in TSNE will change from 200.0 to 'auto' in 1.2.\n",
            "  FutureWarning,\n"
          ]
        },
        {
          "output_type": "execute_result",
          "data": {
            "text/plain": [
              "(1797, 2)"
            ]
          },
          "metadata": {},
          "execution_count": 41
        }
      ]
    },
    {
      "cell_type": "code",
      "source": [
        "colors = ['black', 'blue', 'purple', 'yellow', 'cyan', 'red', 'lime','orange', 'gray','magenta']\n",
        "\n",
        "for i in range(len(colors)):\n",
        "  x = reduced_data_tsne[:, 0][digits.target == i]\n",
        "  y = reduced_data_tsne[:, 1][digits.target == i]\n",
        "  plt.scatter(x, y, c=colors[i])\n",
        "\n",
        "plt.legend(digits.target_names, bbox_to_anchor=(1.05, 1), loc=2, borderaxespad=0.)\n",
        "plt.xlabel('First Principal Component')\n",
        "plt.ylabel('Second Principal Component')\n",
        "plt.title(\"t-SNE Scatter Plot for MNIST\")\n",
        "plt.show()"
      ],
      "metadata": {
        "colab": {
          "base_uri": "https://localhost:8080/",
          "height": 295
        },
        "id": "9JBTM-dn194d",
        "outputId": "b81a0798-d1a4-468e-b78b-13b5a45a6d26"
      },
      "execution_count": null,
      "outputs": [
        {
          "output_type": "display_data",
          "data": {
            "text/plain": [
              "<Figure size 432x288 with 1 Axes>"
            ],
            "image/png": "[encoded data removed]"
          },
          "metadata": {
            "needs_background": "light"
          }
        }
      ]
    },
    {
      "cell_type": "markdown",
      "metadata": {
        "id": "GaGd6vArAzuk"
      },
      "source": [
        "# Preprocessing"
      ]
    },
    {
      "cell_type": "code",
      "execution_count": null,
      "metadata": {
        "id": "27ouwwV5_E6I"
      },
      "outputs": [],
      "source": [
        "# scale ข้อมูล ให้อยู่ในช่วงมาตรฐาน\n",
        "from sklearn.preprocessing import scale\n",
        "\n",
        "data = scale(digits.data)"
      ]
    },
    {
      "cell_type": "code",
      "execution_count": null,
      "metadata": {
        "id": "0ZNcKxYwBBO-"
      },
      "outputs": [],
      "source": [
        "# แบ่งข้อมูลเป็น training, test datasets\n",
        "\n",
        "from sklearn.model_selection import train_test_split\n",
        "\n",
        "X_train, X_test, y_train, y_test = train_test_split(data, digits.target, test_size=0.33, random_state=41) \n",
        "#2/3 train, 1/3 test"
      ]
    },
    {
      "cell_type": "code",
      "execution_count": null,
      "metadata": {
        "colab": {
          "base_uri": "https://localhost:8080/"
        },
        "id": "38BZqITGCCEQ",
        "outputId": "e9408c3d-ef29-490b-d213-9e0b5c45b315"
      },
      "outputs": [
        {
          "output_type": "execute_result",
          "data": {
            "text/plain": [
              "((1203, 64), (594, 64), (1203,), (594,))"
            ]
          },
          "metadata": {},
          "execution_count": 11
        }
      ],
      "source": [
        "X_train.shape, X_test.shape, y_train.shape, y_test.shape"
      ]
    },
    {
      "cell_type": "markdown",
      "metadata": {
        "id": "EOUhGxYTDSKE"
      },
      "source": [
        "# Clustering using K-means"
      ]
    },
    {
      "cell_type": "code",
      "execution_count": null,
      "metadata": {
        "colab": {
          "base_uri": "https://localhost:8080/"
        },
        "id": "AW-AI8o6DVUm",
        "outputId": "ab33647a-3221-4a88-9779-6d346f2d7cec"
      },
      "outputs": [
        {
          "output_type": "execute_result",
          "data": {
            "text/plain": [
              "KMeans(n_clusters=10, random_state=42)"
            ]
          },
          "metadata": {},
          "execution_count": 6
        }
      ],
      "source": [
        "from sklearn import cluster\n",
        "\n",
        "clf = cluster.KMeans(n_clusters=10, random_state=42)\n",
        "\n",
        "clf.fit(X_train)\n"
      ]
    },
    {
      "cell_type": "code",
      "execution_count": null,
      "metadata": {
        "id": "DW2hkz-vDm-F",
        "colab": {
          "base_uri": "https://localhost:8080/"
        },
        "outputId": "f0a191fa-591c-4e5c-de45-c39f3ed9ba0b"
      },
      "outputs": [
        {
          "output_type": "execute_result",
          "data": {
            "text/plain": [
              "(594,)"
            ]
          },
          "metadata": {},
          "execution_count": 13
        }
      ],
      "source": [
        "y_pred = clf.predict(X_test)\n",
        "y_pred.shape"
      ]
    },
    {
      "cell_type": "code",
      "execution_count": null,
      "metadata": {
        "colab": {
          "base_uri": "https://localhost:8080/",
          "height": 194
        },
        "id": "vOXbhQaGE94m",
        "outputId": "60c3ad4e-5e17-4b24-b915-07533c02a92c"
      },
      "outputs": [
        {
          "output_type": "display_data",
          "data": {
            "text/plain": [
              "<Figure size 576x216 with 10 Axes>"
            ],
            "image/png": "[encoded data removed]"
          },
          "metadata": {
            "needs_background": "light"
          }
        }
      ],
      "source": [
        "import matplotlib.pyplot as plt\n",
        "\n",
        "fig = plt.figure(figsize=(8,3))\n",
        "\n",
        "for i in range(10):\n",
        "  ax = fig.add_subplot(2, 5, 1+i)\n",
        "  ax.imshow(clf.cluster_centers_[i].reshape((8, 8)), cmap=plt.cm.gray_r, interpolation='nearest')\n",
        "  plt.axis('off')\n",
        "\n",
        "plt.show()"
      ]
    },
    {
      "cell_type": "markdown",
      "metadata": {
        "id": "9228MQlQGkfh"
      },
      "source": [
        "# Supervised Learning (SVM)\n"
      ]
    },
    {
      "cell_type": "code",
      "execution_count": null,
      "metadata": {
        "id": "r4NvscTaG31B"
      },
      "outputs": [],
      "source": [
        "from sklearn.svm import SVC\n",
        "\n",
        "clf_svm = SVC(C=10, kernel='rbf', gamma=0.001)\n",
        "\n",
        "clf_svm.fit(X_train, y_train)\n",
        "\n",
        "y_pred_svm = clf_svm.predict(X_test)"
      ]
    },
    {
      "cell_type": "code",
      "execution_count": null,
      "metadata": {
        "colab": {
          "base_uri": "https://localhost:8080/"
        },
        "id": "bivxmaqqHdDo",
        "outputId": "4cab4ffe-de09-4e2e-a638-7ceec6d55c44"
      },
      "outputs": [
        {
          "output_type": "stream",
          "name": "stdout",
          "text": [
            "              precision    recall  f1-score   support\n",
            "\n",
            "           0       1.00      1.00      1.00        56\n",
            "           1       0.95      0.98      0.97        63\n",
            "           2       0.98      1.00      0.99        56\n",
            "           3       0.98      0.97      0.97        59\n",
            "           4       0.98      0.98      0.98        56\n",
            "           5       0.98      1.00      0.99        61\n",
            "           6       1.00      1.00      1.00        64\n",
            "           7       1.00      1.00      1.00        59\n",
            "           8       0.94      0.92      0.93        51\n",
            "           9       0.99      0.96      0.97        69\n",
            "\n",
            "    accuracy                           0.98       594\n",
            "   macro avg       0.98      0.98      0.98       594\n",
            "weighted avg       0.98      0.98      0.98       594\n",
            "\n"
          ]
        }
      ],
      "source": [
        "from sklearn import metrics\n",
        "\n",
        "print(metrics.classification_report(y_test, y_pred_svm))"
      ]
    },
    {
      "cell_type": "markdown",
      "source": [
        "# Supervised Learning (Artificial Neural Network) by Weerathep"
      ],
      "metadata": {
        "id": "3nUl2QlPF1mE"
      }
    },
    {
      "cell_type": "code",
      "execution_count": null,
      "metadata": {
        "id": "6-nJ0WUwH53a",
        "colab": {
          "base_uri": "https://localhost:8080/"
        },
        "outputId": "dd1ea685-03ac-4acf-d256-d1b5bea60978"
      },
      "outputs": [
        {
          "output_type": "stream",
          "name": "stderr",
          "text": [
            "/usr/local/lib/python3.7/dist-packages/sklearn/neural_network/_multilayer_perceptron.py:696: ConvergenceWarning: Stochastic Optimizer: Maximum iterations (200) reached and the optimization hasn't converged yet.\n",
            "  ConvergenceWarning,\n"
          ]
        }
      ],
      "source": [
        "from sklearn.neural_network import MLPClassifier\n",
        "\n",
        "clf_nn = MLPClassifier()  #learning rate = 0.001 , hidden_layer_sizes = (100,)  , activation function = rectified linear unit function \n",
        "clf_nn.fit(X_train, y_train)\n",
        "y_pred_nn = clf_nn.predict(X_test)"
      ]
    },
    {
      "cell_type": "code",
      "source": [
        "print(metrics.classification_report(y_test, y_pred_nn))"
      ],
      "metadata": {
        "colab": {
          "base_uri": "https://localhost:8080/"
        },
        "id": "WuIcV7qL0o8s",
        "outputId": "381b528c-c6f1-4610-c20e-334c061c4031"
      },
      "execution_count": null,
      "outputs": [
        {
          "output_type": "stream",
          "name": "stdout",
          "text": [
            "              precision    recall  f1-score   support\n",
            "\n",
            "           0       1.00      1.00      1.00        56\n",
            "           1       0.95      0.97      0.96        63\n",
            "           2       0.97      1.00      0.98        56\n",
            "           3       0.97      0.95      0.96        59\n",
            "           4       1.00      0.96      0.98        56\n",
            "           5       0.98      1.00      0.99        61\n",
            "           6       1.00      0.98      0.99        64\n",
            "           7       1.00      0.98      0.99        59\n",
            "           8       0.91      0.96      0.93        51\n",
            "           9       0.96      0.93      0.94        69\n",
            "\n",
            "    accuracy                           0.97       594\n",
            "   macro avg       0.97      0.97      0.97       594\n",
            "weighted avg       0.97      0.97      0.97       594\n",
            "\n"
          ]
        }
      ]
    }
  ],
  "metadata": {
    "colab": {
      "provenance": [],
      "include_colab_link": true
    },
    "kernelspec": {
      "display_name": "Python 3 (ipykernel)",
      "language": "python",
      "name": "python3"
    },
    "language_info": {
      "codemirror_mode": {
        "name": "ipython",
        "version": 3
      },
      "file_extension": ".py",
      "mimetype": "text/x-python",
      "name": "python",
      "nbconvert_exporter": "python",
      "pygments_lexer": "ipython3",
      "version": "3.9.12"
    }
  },
  "nbformat": 4,
  "nbformat_minor": 0
}